{
 "cells": [
  {
   "cell_type": "code",
   "execution_count": 1,
   "id": "ec66fae7",
   "metadata": {},
   "outputs": [],
   "source": [
    "import matplotlib.pyplot as plt\n",
    "import numpy as np\n",
    "from sklearn.manifold import TSNE"
   ]
  },
  {
   "cell_type": "code",
   "execution_count": 2,
   "id": "09d62b78",
   "metadata": {},
   "outputs": [],
   "source": [
    "## plotting utilities\n",
    "aa1_to_index = {'A': 0, 'C': 1, 'D': 2, 'E': 3, 'F': 4, 'G': 5, 'H': 6,\n",
    "                'I': 7, 'K': 8, 'L': 9, 'M': 10, 'N': 11, 'P': 12,\n",
    "                'Q': 13, 'R': 14, 'S': 15, 'T': 16, 'V': 17, 'W': 18,\n",
    "                'Y': 19, 'X':20, 'NOSEQ':21, '-': 22}\n",
    "index_to_aa1 = {v: k for k, v in aa1_to_index.items()}\n",
    "\n",
    "colors = [[106,61,154],\n",
    "          [254,192,113],\n",
    "          [226,28,29],\n",
    "          [250,155,153],\n",
    "          [252,129,2],\n",
    "          [168,206,227],\n",
    "          [51,162,45],\n",
    "          [179,225,139],\n",
    "          [28,121,179],\n",
    "          [193,193,193]]\n",
    "colors = np.array(colors) / 255.0\n",
    "\n",
    "in_article = ['Acidobacteria', 'Actinobacteria', 'Bacteroidetes',\n",
    "              'Chloroflexi', 'Cyanobacteria', 'Deinococcus-Thermus',\n",
    "              'Firmicutes', 'Fusobacteria', 'Proteobacteria']#, 'Other']\n",
    "\n",
    "labels = np.load('embeddings/labels.npy', allow_pickle=True)\n",
    "\n",
    "def _plot_loop(data, ax=None):\n",
    "    if ax is None:\n",
    "        ax = plt\n",
    "    for i in range(len(in_article)):\n",
    "        \n",
    "        ax.plot(data[labels==in_article[i],0],\n",
    "                data[labels==in_article[i],1],\n",
    "                '.', \n",
    "                color=colors[i], \n",
    "                label=in_article[i], \n",
    "                markersize=1\n",
    "        )\n",
    "    ax.axis('off')\n",
    "\n",
    "def plotter(data, name=None):\n",
    "    fig = plt.figure()\n",
    "    _plot_loop(data)\n",
    "    plt.axis('off')\n",
    "    if name is not None: \n",
    "        plt.title(name)\n",
    "        plt.savefig(f'name.svg', bbox_inches='tight')\n",
    "    \n",
    "def plot_grid(data, names, label):\n",
    "    fig, ax = plt.subfigures(3, 2)\n",
    "    for d, n in zip(data, names):\n",
    "        _plot_loop(d, n, ax)\n",
    "    plt.show()    \n"
   ]
  },
  {
   "cell_type": "code",
   "execution_count": null,
   "id": "e9d11811",
   "metadata": {},
   "outputs": [],
   "source": [
    "load_preprocessed_embeddings = True\n",
    "if load_preprocessed_embeddings:  # if true, load already dimensionality reduced embeddings else load full embeddings and redo dimensionality reduction\n",
    "    lstm_all, lstm_beta = np.load('embeddings/pre_embedding_lstm.npy', allow_pickle=True)\n",
    "    resnet_all, resnet_beta = np.load('embeddings/pre_embedding_resnet.npy', allow_pickle=True)\n",
    "    transformer_all, transformer_beta = np.load('embeddings/pre_embedding_transformer.npy', allow_pickle=True)\n",
    "    bottleneck_all, bottleneck_beta = np.load('embeddings/pre_embedding_bottleneck.npy', allow_pickle=True)\n",
    "else:\n",
    "    lstm_all, lstm_beta = np.load('embeddings/embedding_lstm.npy', allow_pickle=True)\n",
    "    resnet_all, resnet_beta = np.load('embeddings/embedding_resnet.npy', allow_pickle=True)\n",
    "    transformer_all, transformer_beta = np.load('embeddings/embedding_transformer.npy', allow_pickle=True)\n",
    "    bottleneck_all, bottleneck_beta = np.load('embeddings/embedding_bottleneck.npy', allow_pickle=True)\n",
    "    \n",
    "    # Tsne dimensionality reduction\n",
    "    tsne = TSNE(n_components=2)\n",
    "    \n",
    "    lstm_all = tsne.fit_transform(lstm_all)\n",
    "    lstm_beta = tsne.fit_transform(lstm_beta)\n",
    "    resnet_all = tsne.fit_transform(resnet_all)\n",
    "    resnet_beta = tsne.fit_transform(resnet_beta)\n",
    "    transformer_all = tsne.fit_transform(transformer_all)\n",
    "    transformer_beta = tsne.fit_transform(transformer_beta)\n",
    "    bottleneck_all = tsne.fit_transform(bottleneck_all)\n",
    "    bottleneck_beta = tsne.fit_transform(bottleneck_beta)    "
   ]
  },
  {
   "cell_type": "code",
   "execution_count": null,
   "metadata": {},
   "outputs": [],
   "source": [
    "\n",
    "show_grid = True  # if true, visualize embeddings in a grid else save them to individual files\n",
    "if show_grid:\n",
    "    plot_grid(\n",
    "        [lstm_all, resnet_all, transformer_all, bottleneck_all, lstm_beta, resnet_beta, transformer_beta, bottleneck_beta]\n",
    "        ['lstm_all', 'resnet_all', 'transformer_all', 'bottleneck_all', 'lstm_beta', 'resnet_beta', 'transformer_beta', 'bottleneck_beta',]\n",
    "    )\n",
    "else:\n",
    "    for data, name in zip(\n",
    "            [lstm_all, resnet_all, transformer_all, bottleneck_all, lstm_beta, resnet_beta, transformer_beta, bottleneck_beta],\n",
    "            ['lstm_all', 'resnet_all', 'transformer_all', 'bottleneck_all', 'lstm_beta', 'resnet_beta', 'transformer_beta', 'bottleneck_beta',]\n",
    "    ):\n",
    "        plotter(data, name)"
   ]
  }
 ],
 "metadata": {
  "interpreter": {
   "hash": "bed97ebff9726afb770e6b8044e7e93c42dee4805a1d4d9138670ba91b474e84"
  },
  "kernelspec": {
   "display_name": "Python 3.8.10 64-bit ('meaningfull': conda)",
   "name": "python3"
  },
  "language_info": {
   "codemirror_mode": {
    "name": "ipython",
    "version": 3
   },
   "file_extension": ".py",
   "mimetype": "text/x-python",
   "name": "python",
   "nbconvert_exporter": "python",
   "pygments_lexer": "ipython3",
   "version": "3.8.10"
  }
 },
 "nbformat": 4,
 "nbformat_minor": 5
}
